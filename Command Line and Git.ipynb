{
 "cells": [
  {
   "cell_type": "markdown",
   "metadata": {},
   "source": [
    "# **Command Line and Git**"
   ]
  },
  {
   "cell_type": "markdown",
   "metadata": {},
   "source": [
    "Text contained in hard brackets [ ] are examples, and are not used in the actual command."
   ]
  },
  {
   "cell_type": "markdown",
   "metadata": {},
   "source": [
    "## Command Line"
   ]
  },
  {
   "cell_type": "markdown",
   "metadata": {},
   "source": [
    "### Common Bash Commands\n",
    "To view more information about a command, including their options, type **man [command name]** or **[command name] -h** into the command line.\n",
    "<br><br>\n",
    "\n",
    "- **pwd** <br> \n",
    "Print working directory <br><br>\n",
    "\n",
    "- **mkdir [directory name]** <br>\n",
    "Make directory called [directory name] <br><br>\n",
    "\n",
    "- **cd [directory name]** <br> \n",
    "Change current directory into existing directory [directory name] <br><br>\n",
    "\n",
    "- **ls** <br>\n",
    "List all of the files in the current working directory <br><br>\n",
    "\n",
    "- **echo \"[text]\" > [text_file.txt]** <br> \n",
    "Display a line of text/string on standard output (stdout) or into a file [text_file.txt] <br><br>\n",
    "\n",
    "- **cat [text_file1.txt] [text_file2.txt]** <br> \n",
    "Concatenates files [text_file1.txt] and [text_file2.txt] and displays the stdout one line at a time (can be used on one or multiple files) <br><br>\n",
    "\n",
    "- **curl** or **wget [https:<span></span>//data.edu/dataset.data]** <br> \n",
    "Loads a file [https:<span></span>//data.edu/dataset.data] and prints it to stdout <br><br>\n",
    "\n",
    "- **cp [text_file.txt]** <br>\n",
    "Make a copy of the file [text_file.txt] <br><br>\n",
    "\n",
    "- **mv [file_name] [new_file_name]** <br>\n",
    "Changes the name of a file from [file_name] to [new_file_name] <br><br>\n",
    "\n",
    "- **rm -r [directory_name] -r** <br>\n",
    "Delete an entire directory [directory_name] and its contents, use only **rm** for empty directories or single files <br><br>\n",
    "\n",
    "- **grep \"[keyword]\" [text_file.txt]** <br>\n",
    "Search the entire file [text_file.txt] for all lines containing the word [keyword] <br><br>\n",
    "\n",
    "- <b>\\*.py</b> <br>\n",
    "Returns all files that end in .py, \\* is the wildcard command and can be used in place of text that the search result will fill in <br><br>\n",
    "\n",
    "- **which [file_name]** <br>\n",
    "Returns the path name of [file_name]"
   ]
  },
  {
   "cell_type": "markdown",
   "metadata": {},
   "source": [
    "### Keyboard Shortcuts\n",
    "Shortcuts for the terminal interface, which does not respond to normal keyboard shortcuts.\n",
    "<br><br>\n",
    "\n",
    "- **tab** <br>\n",
    "Auto-complete file and folder names <br><br>\n",
    "\n",
    "- **control + A** <br>\n",
    "Go to the beginning of the line <br><br>\n",
    "\n",
    "- **control + E** <br>\n",
    "Go to the end of the line <br><br>\n",
    "\n",
    "- **control + U** <br>\n",
    "Clear the line before the cursor <br><br>\n",
    "\n",
    "- **control + W** <br>\n",
    "Delete the word before the cursor <br><br>\n",
    "\n",
    "- **control + L** <br>\n",
    "Clear the screen <br><br>\n",
    "\n",
    "- **control + C** <br>\n",
    "Kill whatever you are running <br><br>\n",
    "\n",
    "- **control + D** <br>\n",
    "Exit the current shell <br><br>\n",
    "\n",
    "- **control + F** <br>\n",
    "Move one character forward <br><br>\n",
    "\n",
    "- **control + B** <br>\n",
    "Move one character backward <br><br>\n",
    "\n",
    "- **option + &rarr;** <br>\n",
    "Move one word to the right <br><br>\n",
    "\n",
    "- **option + &larr;** <br>\n",
    "Move one word to the left <br><br>\n",
    "\n",
    "- **option + W** <br>\n",
    "Cut word before the cursor, adding it to the clipboard <br><br>\n",
    "\n",
    "-  **option + K** <br>\n",
    "Cut the part of the line after the cursor <br><br>\n",
    "\n",
    "- **option + U** <br>\n",
    "Cut the line before the cursor <br><br>\n",
    "\n",
    "-  **option + Y** <br>\n",
    "Paste the last thing cut from the clipboard <br><br>\n",
    "\n",
    "- **control + _** <br>\n",
    "Undo the last command <br><br>\n",
    "\n",
    "- **control + Z** <br>\n",
    "Put whatever you are running into a suspended background process"
   ]
  },
  {
   "cell_type": "markdown",
   "metadata": {},
   "source": [
    "### Troubleshooting Commands\n",
    "Useful commands for troubleshooting and system administration.\n",
    "<br><br>\n",
    "\n",
    "- **ping [website.com]** <br>\n",
    "Check network connectivity of a website <br><br>\n",
    "\n",
    "- **dig [website.com]** <br>\n",
    "Displays results of DNS lookups <br><br>\n",
    "\n",
    "- **host [website.com]** <br>\n",
    "Similar function as **dig**, used to resolve a hostname into an IP address or vice-versa <br><br>\n",
    "\n",
    "- **traceroute [website.com]** <br>\n",
    "Provide name and identity of every device on the path and repor tnetword latency and identify at which device the latency comes from <br><br>\n",
    "\n",
    "- **mtr [website.com]** <br>\n",
    "Alternative to traceroute command that displays real-time data <br><br>\n",
    "\n",
    "- **ifconfig** <br>\n",
    "Interface configuration, used to view and change the configuration of the netword interfaces on your system"
   ]
  },
  {
   "cell_type": "markdown",
   "metadata": {},
   "source": [
    "## Git "
   ]
  },
  {
   "cell_type": "markdown",
   "metadata": {},
   "source": [
    "### Basic Commands\n",
    "Basic commands for creating, connecting and managing a git repository on your local machine.\n",
    "<br><br>\n",
    "\n",
    "- **git init [directory name]** <br>\n",
    "Create an empty Git repository in the specified directory, with optional directory name <br><br>\n",
    "- **git clone [repo]** <br>\n",
    "Clone the repository located at [repo] onto the local machine <br><br>\n",
    "- **git config user.name [name]** <br>\n",
    "Define the author name that will be used for all commits in the current repository, developers commonly use **--global** flag to set config options for current user <br><br>\n",
    "- **git add [directory]** <br>\n",
    "Stage all changes in [directory] for the next commit; replace **[directory]** with **[file]** to change to a specific file <br><br>\n",
    "- **git commit -m \"[message]\"** <br>\n",
    "Commit the snapshot and stage it for the next step; message should \n",
    "provide more detail for the commit <br><br>\n",
    "- **git status** <br>\n",
    "List which files are staged, unstaged and untracked <br><br>\n",
    "- **git log** <br>\n",
    "Display the enture commit history using the default format <br><br>\n",
    "- **git diff** <br>\n",
    "Show unstaged changes between your index and working directory"
   ]
  },
  {
   "cell_type": "markdown",
   "metadata": {},
   "source": [
    "### Remote Repositories\n",
    "Access and manage the remote repository you are working on, located on your local machine.\n",
    "<br><br>\n",
    "- **git remote add [name] [url]** <br>\n",
    "Create a new connection to a remote repo; you can use **[name]** as a shortcut for **[url]** afterwards in other commands <br><br>\n",
    "- **git fetch [remote] [branch]** <br>\n",
    "Fetches a specific **[branch]** from the repo; leave off **[branch]** to fetch all remote refs <br><br>\n",
    "- **git pull [remote]** <br>\n",
    "Fetch the specified remote's copy of current brancch and immediately merge it into the local copy <br><br>\n",
    "- **git push [remote][branch]** <br>\n",
    "Push the branch to **[remote]**, along with necessary commits and objects; creates named branch in the remote repo iff it doesn't exist\n"
   ]
  },
  {
   "cell_type": "markdown",
   "metadata": {},
   "source": [
    "### Git Branches\n",
    "Create and merge branches, which allows users to edit code on the same project without disrupting the master branch.\n",
    "\n",
    "- **git branch** <br>\n",
    "List all of the branches in your repo; add a **[branch]** argument to create a new ebranch with the name **[branch]** <br><br>\n",
    "- **git checkout -b [branch]** <br>\n",
    "Create and check out a new branch named **[branch]**; drop the **-b** flag to checkout an existing branch <br><br>\n",
    "- **git merge [branch]** <br>\n",
    "Merge **[branch]** into the current branch"
   ]
  },
  {
   "cell_type": "markdown",
   "metadata": {},
   "source": [
    "### Undoing Changes and Rewriting Git History\n",
    "How to make changes to your repository edits. <br><br>\n",
    "- **git revert [commit]** <br>\n",
    "Create a new commit that undoes all of the changes made in [commit], then apply it to the current branch <br><br>\n",
    "- **git reset [file]** <br>\n",
    "Remove **[file]** from the staging area, but leave the working directory unchanged, unstaging a file without overwriting any changes <br><br>\n",
    "- **git clean -n** <br>\n",
    "Shows which files would be removed from working directory; use the **-f** flag in place off the **-n** flag to execute the clean <br><br>\n",
    "- **git commit --amend** <br>\n",
    "Replace the last commit the staged changes and last commit combined; usedd with nothing staged to edit the last commit's message <br><br>\n",
    "- **git rebase [base]** <br>\n",
    "Rebase the eccurrent branch onto **[base]**, **[base]** can be a commit ID, branch name, a tag, or a relative reference to HEAD <br><br>\n",
    "- **git reflog** <br>\n",
    "Show a log of changes to the local repository's HEAD; add **relative-date** to show date info or **--all** to show all refs"
   ]
  },
  {
   "cell_type": "code",
   "execution_count": null,
   "metadata": {},
   "outputs": [],
   "source": []
  }
 ],
 "metadata": {
  "kernelspec": {
   "display_name": "Python 3",
   "language": "python",
   "name": "python3"
  },
  "language_info": {
   "codemirror_mode": {
    "name": "ipython",
    "version": 3
   },
   "file_extension": ".py",
   "mimetype": "text/x-python",
   "name": "python",
   "nbconvert_exporter": "python",
   "pygments_lexer": "ipython3",
   "version": "3.7.2"
  }
 },
 "nbformat": 4,
 "nbformat_minor": 2
}
